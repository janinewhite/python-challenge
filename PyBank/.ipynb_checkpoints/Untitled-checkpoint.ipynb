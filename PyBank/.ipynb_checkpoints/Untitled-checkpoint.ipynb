{
 "cells": [
  {
   "cell_type": "code",
   "execution_count": 2,
   "metadata": {
    "scrolled": true
   },
   "outputs": [],
   "source": [
    "import os\n",
    "import csv\n",
    "bank_csv = os.path.join(\".\",\"Resources\",\"budget_data.csv\")\n",
    "months = 0\n",
    "net_profit_loss = 0\n",
    "total_change = 0\n",
    "greatest_profit = 0\n",
    "greatest_profit_month = \"\"\n",
    "greatest_loss = 0\n",
    "greatest_loss_month = \"\"\n",
    "last_profit_loss = 0\n",
    "greatest_increase = 0\n",
    "greatest_increase_month = \"\"\n",
    "greatest_decrease = 0\n",
    "greatest_decrease_month = \"\"\n",
    "with open(bank_csv, 'r') as csvfile:\n",
    "    csvreader = csv.reader(csvfile, delimiter=',')\n",
    "    header = next(csvreader)\n",
    "    for row in csvreader:\n",
    "        month = row[0]\n",
    "        months = months + 1\n",
    "        profit_loss = int(row[1])\n",
    "        net_profit_loss += profit_loss\n",
    "        if (months == 1):\n",
    "            profit_loss_change = 0\n",
    "        else:\n",
    "            profit_loss_change = profit_loss - last_profit_loss\n",
    "        total_change += profit_loss_change\n",
    "        if (profit_loss < greatest_loss):\n",
    "            greatest_loss = profit_loss\n",
    "            greatest_loss_month = month\n",
    "        else:\n",
    "            if (profit_loss > greatest_profit):\n",
    "                greatest_profit = profit_loss\n",
    "                greatest_profit_month = month\n",
    "        if (profit_loss_change < greatest_decrease):\n",
    "            greatest_decrease = profit_loss_change\n",
    "            greatest_decrease_month = month\n",
    "        else:\n",
    "            if (profit_loss_change > greatest_increase):\n",
    "                greatest_increase = profit_loss_change\n",
    "                greatest_increase_month = month\n",
    "        last_profit_loss = profit_loss\n",
    "average_profit_loss = round(net_profit_loss/months,2)\n",
    "average_change = round(total_change/(months-1),2)"
   ]
  },
  {
   "cell_type": "code",
   "execution_count": 3,
   "metadata": {},
   "outputs": [
    {
     "name": "stdout",
     "output_type": "stream",
     "text": [
      "------------------\n",
      "Financial Analysis\n",
      "------------------\n",
      "Total Months: 86\n",
      "Total: $38382578\n",
      "Average Profit/Loss: $446309.05\n",
      "Greatest Profit: Feb-2012 $1170593\n",
      "Greatest Loss: Sep-2013 $-1196225\n",
      "Average Change: $-2315.12\n",
      "Greatest Increase: Feb-2012 $1926159\n",
      "Greatest Decrease: Sep-2013 $-2196167\n"
     ]
    }
   ],
   "source": [
    "print(\"------------------\")\n",
    "print(\"Financial Analysis\")\n",
    "print(\"------------------\")\n",
    "print(f\"Total Months: {months}\")\n",
    "print(f\"Total: ${net_profit_loss}\")\n",
    "print(f\"Average Profit/Loss: ${average_profit_loss}\")\n",
    "print(f\"Greatest Profit: {greatest_profit_month} ${greatest_profit}\")\n",
    "print(f\"Greatest Loss: {greatest_loss_month} ${greatest_loss}\")\n",
    "print(f\"Average Change: ${average_change}\")\n",
    "print(f\"Greatest Increase: {greatest_increase_month} ${greatest_increase}\")\n",
    "print(f\"Greatest Decrease: {greatest_decrease_month} ${greatest_decrease}\")"
   ]
  },
  {
   "cell_type": "code",
   "execution_count": 4,
   "metadata": {},
   "outputs": [],
   "source": [
    "filename = \"Pybank.txt\"\n",
    "with open(filename, 'w') as f:\n",
    "    f.write(\"------------------\\n\")\n",
    "    f.write(\"Financial Analysis\\n\")\n",
    "    f.write(\"------------------\\n\")\n",
    "    f.write(f\"Total Months: {months}\\n\")\n",
    "    f.write(f\"Total: ${net_profit_loss}\\n\")\n",
    "    f.write(f\"Average Profit/Loss: ${average_profit_loss}\\n\")\n",
    "    f.write(f\"Greatest Profit: {greatest_profit_month} ${greatest_profit}\\n\")\n",
    "    f.write(f\"Greatest Loss: {greatest_loss_month} ${greatest_loss}\\n\")\n",
    "    f.write(f\"Average Change: ${average_change}\\n\")\n",
    "    f.write(f\"Greatest Increase: {greatest_increase_month} ${greatest_increase}\\n\")\n",
    "    f.write(f\"Greatest Decrease: {greatest_decrease_month} ${greatest_decrease}\\n\")"
   ]
  },
  {
   "cell_type": "code",
   "execution_count": null,
   "metadata": {},
   "outputs": [],
   "source": []
  }
 ],
 "metadata": {
  "kernelspec": {
   "display_name": "Python 3",
   "language": "python",
   "name": "python3"
  },
  "language_info": {
   "codemirror_mode": {
    "name": "ipython",
    "version": 3
   },
   "file_extension": ".py",
   "mimetype": "text/x-python",
   "name": "python",
   "nbconvert_exporter": "python",
   "pygments_lexer": "ipython3",
   "version": "3.7.3"
  }
 },
 "nbformat": 4,
 "nbformat_minor": 2
}
