{
 "cells": [
  {
   "cell_type": "code",
   "execution_count": 1,
   "metadata": {
    "scrolled": true
   },
   "outputs": [],
   "source": [
    "#set input filepath\n",
    "import os\n",
    "import csv\n",
    "bank_csv = os.path.join(\".\",\"Resources\",\"budget_data.csv\")"
   ]
  },
  {
   "cell_type": "code",
   "execution_count": 2,
   "metadata": {},
   "outputs": [],
   "source": [
    "#initialize variables\n",
    "months = 0\n",
    "net_profit_loss = 0\n",
    "total_change = 0\n",
    "greatest_profit = 0\n",
    "greatest_profit_month = \"\"\n",
    "greatest_loss = 0\n",
    "greatest_loss_month = \"\"\n",
    "last_profit_loss = 0\n",
    "greatest_increase = 0\n",
    "greatest_increase_month = \"\"\n",
    "greatest_decrease = 0\n",
    "greatest_decrease_month = \"\""
   ]
  },
  {
   "cell_type": "code",
   "execution_count": 3,
   "metadata": {},
   "outputs": [],
   "source": [
    "#read csv and analyze rows\n",
    "with open(bank_csv, 'r') as csvfile:\n",
    "    csvreader = csv.reader(csvfile, delimiter=',')\n",
    "    header = next(csvreader)\n",
    "    for row in csvreader:\n",
    "        month = row[0]\n",
    "        months = months + 1\n",
    "        profit_loss = int(row[1])\n",
    "        net_profit_loss += profit_loss\n",
    "        if (months == 1):\n",
    "            profit_loss_change = 0\n",
    "        else:\n",
    "            profit_loss_change = profit_loss - last_profit_loss\n",
    "        total_change += profit_loss_change\n",
    "        if (profit_loss < greatest_loss):\n",
    "            greatest_loss = profit_loss\n",
    "            greatest_loss_month = month\n",
    "        else:\n",
    "            if (profit_loss > greatest_profit):\n",
    "                greatest_profit = profit_loss\n",
    "                greatest_profit_month = month\n",
    "        if (profit_loss_change < greatest_decrease):\n",
    "            greatest_decrease = profit_loss_change\n",
    "            greatest_decrease_month = month\n",
    "        else:\n",
    "            if (profit_loss_change > greatest_increase):\n",
    "                greatest_increase = profit_loss_change\n",
    "                greatest_increase_month = month\n",
    "        last_profit_loss = profit_loss\n",
    "average_profit_loss = round(net_profit_loss/months,2)\n",
    "average_change = round(total_change/(months-1),2)"
   ]
  },
  {
   "cell_type": "code",
   "execution_count": 4,
   "metadata": {},
   "outputs": [],
   "source": [
    "def print_and_save(message,f):\n",
    "    print(message)\n",
    "    f.write(f\"{message}\\n\")"
   ]
  },
  {
   "cell_type": "code",
   "execution_count": 6,
   "metadata": {
    "scrolled": false
   },
   "outputs": [
    {
     "name": "stdout",
     "output_type": "stream",
     "text": [
      "------------------\n",
      "Financial Analysis\n",
      "------------------\n",
      "Total Months: 86\n",
      "Total: $38382578\n",
      "Average Profit/Loss: $446309.05\n",
      "Greatest Profit: Feb-2012 $1170593\n",
      "Greatest Loss: Sep-2013 $-1196225\n",
      "Average Change: $-2315.12\n",
      "Greatest Increase: Feb-2012 $1926159\n",
      "Greatest Decrease: Sep-2013 $-2196167\n"
     ]
    }
   ],
   "source": [
    "#print and save analysis\n",
    "filename = \"Pybank.txt\"\n",
    "with open(filename, 'w') as f:\n",
    "    print_and_save(\"------------------\",f)\n",
    "    print_and_save(\"Financial Analysis\",f)\n",
    "    print_and_save(\"------------------\",f)\n",
    "    print_and_save(f\"Total Months: {months}\",f)\n",
    "    print_and_save(f\"Total: ${net_profit_loss}\",f)\n",
    "    print_and_save(f\"Average Profit/Loss: ${average_profit_loss}\",f)\n",
    "    print_and_save(f\"Greatest Profit: {greatest_profit_month} ${greatest_profit}\",f)\n",
    "    print_and_save(f\"Greatest Loss: {greatest_loss_month} ${greatest_loss}\",f)\n",
    "    print_and_save(f\"Average Change: ${average_change}\",f)\n",
    "    print_and_save(f\"Greatest Increase: {greatest_increase_month} ${greatest_increase}\",f)\n",
    "    print_and_save(f\"Greatest Decrease: {greatest_decrease_month} ${greatest_decrease}\",f)"
   ]
  }
 ],
 "metadata": {
  "celltoolbar": "Edit Metadata",
  "kernelspec": {
   "display_name": "Python 3",
   "language": "python",
   "name": "python3"
  },
  "language_info": {
   "codemirror_mode": {
    "name": "ipython",
    "version": 3
   },
   "file_extension": ".py",
   "mimetype": "text/x-python",
   "name": "python",
   "nbconvert_exporter": "python",
   "pygments_lexer": "ipython3",
   "version": "3.7.3"
  },
  "varInspector": {
   "cols": {
    "lenName": 16,
    "lenType": 16,
    "lenVar": 40
   },
   "kernels_config": {
    "python": {
     "delete_cmd_postfix": "",
     "delete_cmd_prefix": "del ",
     "library": "var_list.py",
     "varRefreshCmd": "print(var_dic_list())"
    },
    "r": {
     "delete_cmd_postfix": ") ",
     "delete_cmd_prefix": "rm(",
     "library": "var_list.r",
     "varRefreshCmd": "cat(var_dic_list()) "
    }
   },
   "types_to_exclude": [
    "module",
    "function",
    "builtin_function_or_method",
    "instance",
    "_Feature"
   ],
   "window_display": false
  }
 },
 "nbformat": 4,
 "nbformat_minor": 2
}
