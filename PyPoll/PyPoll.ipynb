{
 "cells": [
  {
   "cell_type": "code",
   "execution_count": 1,
   "metadata": {},
   "outputs": [],
   "source": [
    "#set input filepath\n",
    "import os\n",
    "import csv\n",
    "poll_csv = os.path.join(\".\",\"Resources\",\"election_data.csv\")"
   ]
  },
  {
   "cell_type": "code",
   "execution_count": 2,
   "metadata": {},
   "outputs": [],
   "source": [
    "#initialize variables\n",
    "votes = 0\n",
    "candidate_num = 0\n",
    "candidate_votes = 0\n",
    "candidates = []\n",
    "counties = []"
   ]
  },
  {
   "cell_type": "code",
   "execution_count": 3,
   "metadata": {},
   "outputs": [],
   "source": [
    "#return candidate dictionary or null from candidates list\n",
    "def search(candidate, candidates):\n",
    "    try:\n",
    "        for element in candidates:\n",
    "            if element['candidate'] == candidate:\n",
    "                candidate_found = element\n",
    "                break\n",
    "        return candidate_found\n",
    "    except:\n",
    "        return None"
   ]
  },
  {
   "cell_type": "code",
   "execution_count": 4,
   "metadata": {},
   "outputs": [],
   "source": [
    "#read and analyze data\n",
    "with open(poll_csv, 'r') as csvfile:\n",
    "    csvreader = csv.reader(csvfile, delimiter=',')\n",
    "    header = next(csvreader)\n",
    "    for row in csvreader:\n",
    "        # Increment total votes\n",
    "        votes += 1\n",
    "        # Read row\n",
    "        voter = int(row[0])\n",
    "        county = str(row[1])\n",
    "        candidate = str(row[2])\n",
    "        # Build county list\n",
    "        if county not in counties:\n",
    "            counties.append(county)\n",
    "        # Get existing candidate record\n",
    "        find_candidate = search(candidate, candidates)\n",
    "        # If there is no candidate record, add candidate to list, otherwise, increment votes for candidate\n",
    "        if find_candidate == None:\n",
    "            new_candidate = {\"candidate\":candidate,\"votes\":1}\n",
    "            candidates.append(new_candidate)            \n",
    "        else:\n",
    "            new_votes = {\"votes\":int(find_candidate['votes'])+1}\n",
    "            for person in candidates:\n",
    "                if person['candidate']==candidate:\n",
    "                    person.update(new_votes)"
   ]
  },
  {
   "cell_type": "code",
   "execution_count": 5,
   "metadata": {},
   "outputs": [],
   "source": [
    "def print_and_save(message, f):\n",
    "    print(message)\n",
    "    f.write(f\"{message}\\n\")"
   ]
  },
  {
   "cell_type": "code",
   "execution_count": 6,
   "metadata": {},
   "outputs": [
    {
     "name": "stdout",
     "output_type": "stream",
     "text": [
      "Election Results\n",
      "-----------------------------\n",
      "Total Votes: 3521001\n",
      "-----------------------------\n",
      "Khan 63.0% (2218231)\n",
      "Correy 20.0% (704200)\n",
      "Li 14.0% (492940)\n",
      "O'Tooley 3.0% (105630)\n",
      "-----------------------------\n",
      "Winner: Khan\n",
      "-----------------------------\n"
     ]
    }
   ],
   "source": [
    "# Print and save results\n",
    "filename = \"PyPoll.txt\"\n",
    "with open(filename, 'w') as f:\n",
    "    print_and_save(\"Election Results\",f)\n",
    "    print_and_save(\"-----------------------------\",f)\n",
    "    print_and_save(f\"Total Votes: {votes}\",f)\n",
    "    print_and_save(\"-----------------------------\",f)\n",
    "    highest_votes = 0\n",
    "    winner = \"\"\n",
    "    for person in candidates:\n",
    "        name = person['candidate']\n",
    "        vote_count = person['votes']\n",
    "        if vote_count>highest_votes:\n",
    "            highest_votes = vote_count\n",
    "            winner = name\n",
    "        vote_percent = round(vote_count*100/votes,1)\n",
    "        print_and_save(f\"{name} {str(vote_percent)}% ({vote_count})\",f )\n",
    "    print_and_save(\"-----------------------------\",f)\n",
    "    print_and_save(f\"Winner: {winner}\",f)\n",
    "    print_and_save(\"-----------------------------\",f)"
   ]
  }
 ],
 "metadata": {
  "kernelspec": {
   "display_name": "Python 3",
   "language": "python",
   "name": "python3"
  },
  "language_info": {
   "codemirror_mode": {
    "name": "ipython",
    "version": 3
   },
   "file_extension": ".py",
   "mimetype": "text/x-python",
   "name": "python",
   "nbconvert_exporter": "python",
   "pygments_lexer": "ipython3",
   "version": "3.7.3"
  }
 },
 "nbformat": 4,
 "nbformat_minor": 2
}
